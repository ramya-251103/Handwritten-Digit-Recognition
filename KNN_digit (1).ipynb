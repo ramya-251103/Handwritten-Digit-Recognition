{
 "cells": [
  {
   "cell_type": "markdown",
   "id": "cef93f91-dbd9-4d20-b7a2-3bd30e8c6f37",
   "metadata": {},
   "source": [
    "# Recognising Handwritten Digits on MNIST Dataset using KNN\n",
    "The data files train.csv and test.csv contain gray-scale images of hand-drawn digits, from zero through nine.\r\n",
    "\r\n",
    "Each image is 28 pixels in height and 28 pixels in width, for a total of 784 pixels in total. Each pixel has a single pixel-value associated with it, indicating the lightness or darkness of that pixel, with higher numbers meaning darker. This pixel-value is an integer between 0 and 25 inclusive.\n",
    "  \n",
    "\r\n",
    "\r\n",
    "The training data set, (train.csv), has 785 columns. The first column, called \"label\", is the digit that was drawn by the user. The rest of the columns contain the pixel-values of the associated image.\r\n",
    "\r\n",
    "Each pixel column in the training set has a name like pixelx, where x is an integer between 0 and 783, inclusive. To locate this pixel on the image, suppose that we have decomposed x as x = i * 28 + j, where i and j are integers between 0 and 27, inclusive. Then pixelx is located on row i and column j of a 28 x 28 matrix, (indexing by zero).\r\n",
    "\r\n",
    "For example, pixel31 indicates the pixel that is in the fourth column from the left, and the second row from.the top,"
   ]
  },
  {
   "cell_type": "code",
   "execution_count": 1,
   "id": "c015949f-f7f7-45e2-b9f0-481a094f708d",
   "metadata": {},
   "outputs": [],
   "source": [
    "import pandas as pd\n",
    "import numpy as np\n",
    "import matplotlib.pyplot as plt"
   ]
  },
  {
   "cell_type": "code",
   "execution_count": 3,
   "id": "a441e232-18cd-4f64-8ab5-0b9e6084f06e",
   "metadata": {},
   "outputs": [],
   "source": [
    "df = pd.read_csv('train.csv')"
   ]
  },
  {
   "cell_type": "code",
   "execution_count": 5,
   "id": "758e41ac-1236-446d-9ec8-fa81ef35c9d5",
   "metadata": {},
   "outputs": [
    {
     "name": "stdout",
     "output_type": "stream",
     "text": [
      "(42000, 785)\n"
     ]
    }
   ],
   "source": [
    "print(df.shape)"
   ]
  },
  {
   "cell_type": "code",
   "execution_count": 7,
   "id": "550b3507-12bf-424c-b496-62e06da6c5d3",
   "metadata": {},
   "outputs": [
    {
     "name": "stdout",
     "output_type": "stream",
     "text": [
      "Index(['label', 'pixel0', 'pixel1', 'pixel2', 'pixel3', 'pixel4', 'pixel5',\n",
      "       'pixel6', 'pixel7', 'pixel8',\n",
      "       ...\n",
      "       'pixel774', 'pixel775', 'pixel776', 'pixel777', 'pixel778', 'pixel779',\n",
      "       'pixel780', 'pixel781', 'pixel782', 'pixel783'],\n",
      "      dtype='object', length=785)\n"
     ]
    }
   ],
   "source": [
    "print(df.columns)"
   ]
  },
  {
   "cell_type": "code",
   "execution_count": 9,
   "id": "8f89528f-83cd-491f-9562-83e4293c3128",
   "metadata": {},
   "outputs": [
    {
     "data": {
      "text/html": [
       "<div>\n",
       "<style scoped>\n",
       "    .dataframe tbody tr th:only-of-type {\n",
       "        vertical-align: middle;\n",
       "    }\n",
       "\n",
       "    .dataframe tbody tr th {\n",
       "        vertical-align: top;\n",
       "    }\n",
       "\n",
       "    .dataframe thead th {\n",
       "        text-align: right;\n",
       "    }\n",
       "</style>\n",
       "<table border=\"1\" class=\"dataframe\">\n",
       "  <thead>\n",
       "    <tr style=\"text-align: right;\">\n",
       "      <th></th>\n",
       "      <th>label</th>\n",
       "      <th>pixel0</th>\n",
       "      <th>pixel1</th>\n",
       "      <th>pixel2</th>\n",
       "      <th>pixel3</th>\n",
       "      <th>pixel4</th>\n",
       "      <th>pixel5</th>\n",
       "      <th>pixel6</th>\n",
       "      <th>pixel7</th>\n",
       "      <th>pixel8</th>\n",
       "      <th>...</th>\n",
       "      <th>pixel774</th>\n",
       "      <th>pixel775</th>\n",
       "      <th>pixel776</th>\n",
       "      <th>pixel777</th>\n",
       "      <th>pixel778</th>\n",
       "      <th>pixel779</th>\n",
       "      <th>pixel780</th>\n",
       "      <th>pixel781</th>\n",
       "      <th>pixel782</th>\n",
       "      <th>pixel783</th>\n",
       "    </tr>\n",
       "  </thead>\n",
       "  <tbody>\n",
       "    <tr>\n",
       "      <th>0</th>\n",
       "      <td>1</td>\n",
       "      <td>0</td>\n",
       "      <td>0</td>\n",
       "      <td>0</td>\n",
       "      <td>0</td>\n",
       "      <td>0</td>\n",
       "      <td>0</td>\n",
       "      <td>0</td>\n",
       "      <td>0</td>\n",
       "      <td>0</td>\n",
       "      <td>...</td>\n",
       "      <td>0</td>\n",
       "      <td>0</td>\n",
       "      <td>0</td>\n",
       "      <td>0</td>\n",
       "      <td>0</td>\n",
       "      <td>0</td>\n",
       "      <td>0</td>\n",
       "      <td>0</td>\n",
       "      <td>0</td>\n",
       "      <td>0</td>\n",
       "    </tr>\n",
       "    <tr>\n",
       "      <th>1</th>\n",
       "      <td>0</td>\n",
       "      <td>0</td>\n",
       "      <td>0</td>\n",
       "      <td>0</td>\n",
       "      <td>0</td>\n",
       "      <td>0</td>\n",
       "      <td>0</td>\n",
       "      <td>0</td>\n",
       "      <td>0</td>\n",
       "      <td>0</td>\n",
       "      <td>...</td>\n",
       "      <td>0</td>\n",
       "      <td>0</td>\n",
       "      <td>0</td>\n",
       "      <td>0</td>\n",
       "      <td>0</td>\n",
       "      <td>0</td>\n",
       "      <td>0</td>\n",
       "      <td>0</td>\n",
       "      <td>0</td>\n",
       "      <td>0</td>\n",
       "    </tr>\n",
       "    <tr>\n",
       "      <th>2</th>\n",
       "      <td>1</td>\n",
       "      <td>0</td>\n",
       "      <td>0</td>\n",
       "      <td>0</td>\n",
       "      <td>0</td>\n",
       "      <td>0</td>\n",
       "      <td>0</td>\n",
       "      <td>0</td>\n",
       "      <td>0</td>\n",
       "      <td>0</td>\n",
       "      <td>...</td>\n",
       "      <td>0</td>\n",
       "      <td>0</td>\n",
       "      <td>0</td>\n",
       "      <td>0</td>\n",
       "      <td>0</td>\n",
       "      <td>0</td>\n",
       "      <td>0</td>\n",
       "      <td>0</td>\n",
       "      <td>0</td>\n",
       "      <td>0</td>\n",
       "    </tr>\n",
       "    <tr>\n",
       "      <th>3</th>\n",
       "      <td>4</td>\n",
       "      <td>0</td>\n",
       "      <td>0</td>\n",
       "      <td>0</td>\n",
       "      <td>0</td>\n",
       "      <td>0</td>\n",
       "      <td>0</td>\n",
       "      <td>0</td>\n",
       "      <td>0</td>\n",
       "      <td>0</td>\n",
       "      <td>...</td>\n",
       "      <td>0</td>\n",
       "      <td>0</td>\n",
       "      <td>0</td>\n",
       "      <td>0</td>\n",
       "      <td>0</td>\n",
       "      <td>0</td>\n",
       "      <td>0</td>\n",
       "      <td>0</td>\n",
       "      <td>0</td>\n",
       "      <td>0</td>\n",
       "    </tr>\n",
       "    <tr>\n",
       "      <th>4</th>\n",
       "      <td>0</td>\n",
       "      <td>0</td>\n",
       "      <td>0</td>\n",
       "      <td>0</td>\n",
       "      <td>0</td>\n",
       "      <td>0</td>\n",
       "      <td>0</td>\n",
       "      <td>0</td>\n",
       "      <td>0</td>\n",
       "      <td>0</td>\n",
       "      <td>...</td>\n",
       "      <td>0</td>\n",
       "      <td>0</td>\n",
       "      <td>0</td>\n",
       "      <td>0</td>\n",
       "      <td>0</td>\n",
       "      <td>0</td>\n",
       "      <td>0</td>\n",
       "      <td>0</td>\n",
       "      <td>0</td>\n",
       "      <td>0</td>\n",
       "    </tr>\n",
       "  </tbody>\n",
       "</table>\n",
       "<p>5 rows × 785 columns</p>\n",
       "</div>"
      ],
      "text/plain": [
       "   label  pixel0  pixel1  pixel2  pixel3  pixel4  pixel5  pixel6  pixel7  \\\n",
       "0      1       0       0       0       0       0       0       0       0   \n",
       "1      0       0       0       0       0       0       0       0       0   \n",
       "2      1       0       0       0       0       0       0       0       0   \n",
       "3      4       0       0       0       0       0       0       0       0   \n",
       "4      0       0       0       0       0       0       0       0       0   \n",
       "\n",
       "   pixel8  ...  pixel774  pixel775  pixel776  pixel777  pixel778  pixel779  \\\n",
       "0       0  ...         0         0         0         0         0         0   \n",
       "1       0  ...         0         0         0         0         0         0   \n",
       "2       0  ...         0         0         0         0         0         0   \n",
       "3       0  ...         0         0         0         0         0         0   \n",
       "4       0  ...         0         0         0         0         0         0   \n",
       "\n",
       "   pixel780  pixel781  pixel782  pixel783  \n",
       "0         0         0         0         0  \n",
       "1         0         0         0         0  \n",
       "2         0         0         0         0  \n",
       "3         0         0         0         0  \n",
       "4         0         0         0         0  \n",
       "\n",
       "[5 rows x 785 columns]"
      ]
     },
     "execution_count": 9,
     "metadata": {},
     "output_type": "execute_result"
    }
   ],
   "source": [
    "df.head()"
   ]
  },
  {
   "cell_type": "code",
   "execution_count": 11,
   "id": "a8123c46-b65c-42bd-85dc-fb48e82d8eff",
   "metadata": {},
   "outputs": [],
   "source": [
    "data = df.values #converting to numpy array"
   ]
  },
  {
   "cell_type": "code",
   "execution_count": 13,
   "id": "977c369a-285d-4823-a29d-1b14e31d457f",
   "metadata": {},
   "outputs": [
    {
     "name": "stdout",
     "output_type": "stream",
     "text": [
      "(42000, 785)\n"
     ]
    }
   ],
   "source": [
    "print(data.shape)"
   ]
  },
  {
   "cell_type": "code",
   "execution_count": 15,
   "id": "ce69628c-552e-406d-ad4f-bd85082ad7b9",
   "metadata": {},
   "outputs": [
    {
     "name": "stdout",
     "output_type": "stream",
     "text": [
      "<class 'numpy.ndarray'>\n"
     ]
    }
   ],
   "source": [
    "print(type(data))"
   ]
  },
  {
   "cell_type": "code",
   "execution_count": 17,
   "id": "804e4055-377b-4f85-b1e7-1e0512a9877c",
   "metadata": {},
   "outputs": [],
   "source": [
    "x = data[:,1:] #pixles\n",
    "y = data[:,0] #labels"
   ]
  },
  {
   "cell_type": "code",
   "execution_count": 19,
   "id": "512353af-9fad-43a5-b251-3db74f9e33bd",
   "metadata": {},
   "outputs": [
    {
     "name": "stdout",
     "output_type": "stream",
     "text": [
      "(42000, 784) (42000,)\n"
     ]
    }
   ],
   "source": [
    "print(x.shape,y.shape)"
   ]
  },
  {
   "cell_type": "code",
   "execution_count": 21,
   "id": "2aaa7052-5783-4646-a741-89255e31e64c",
   "metadata": {},
   "outputs": [
    {
     "name": "stdout",
     "output_type": "stream",
     "text": [
      "[[0 0 0 ... 0 0 0]\n",
      " [0 0 0 ... 0 0 0]\n",
      " [0 0 0 ... 0 0 0]\n",
      " ...\n",
      " [0 0 0 ... 0 0 0]\n",
      " [0 0 0 ... 0 0 0]\n",
      " [0 0 0 ... 0 0 0]]\n"
     ]
    }
   ],
   "source": [
    "print(x)"
   ]
  },
  {
   "cell_type": "code",
   "execution_count": 23,
   "id": "267e3aa8-ccc5-497f-81df-f88007deee0f",
   "metadata": {},
   "outputs": [
    {
     "name": "stdout",
     "output_type": "stream",
     "text": [
      "[1 0 1 ... 7 6 9]\n"
     ]
    }
   ],
   "source": [
    "print(y)"
   ]
  },
  {
   "cell_type": "markdown",
   "id": "b10785ac-70e0-4b40-9e52-889e7e6fe84e",
   "metadata": {},
   "source": [
    "# Splitting Training and Testing"
   ]
  },
  {
   "cell_type": "code",
   "execution_count": 26,
   "id": "74b249f7-5618-4800-a1df-b02c7a033b26",
   "metadata": {},
   "outputs": [],
   "source": [
    "# train test split : apply 80 20 percent rule\n",
    "split = int(0.8*x.shape[0])"
   ]
  },
  {
   "cell_type": "code",
   "execution_count": 28,
   "id": "5ed380a4-8308-4e9d-ae0e-facb55f80701",
   "metadata": {},
   "outputs": [
    {
     "data": {
      "text/plain": [
       "33600"
      ]
     },
     "execution_count": 28,
     "metadata": {},
     "output_type": "execute_result"
    }
   ],
   "source": [
    "split"
   ]
  },
  {
   "cell_type": "code",
   "execution_count": 30,
   "id": "aea29d66-af29-4b26-b93a-83626654da20",
   "metadata": {},
   "outputs": [],
   "source": [
    "x_train = x[:split,:]\n",
    "y_train = y[:split]"
   ]
  },
  {
   "cell_type": "code",
   "execution_count": 32,
   "id": "d5f0c781-1d6c-4faa-bced-6f97fb6cb817",
   "metadata": {},
   "outputs": [],
   "source": [
    "x_test = x[split:,:]\n",
    "y_test = y[split:]"
   ]
  },
  {
   "cell_type": "code",
   "execution_count": 34,
   "id": "3593796d-4bfd-4997-b4a6-8462a63035f5",
   "metadata": {},
   "outputs": [
    {
     "name": "stdout",
     "output_type": "stream",
     "text": [
      "(33600, 784) (33600,)\n"
     ]
    }
   ],
   "source": [
    "print(x_train.shape, y_train.shape)"
   ]
  },
  {
   "cell_type": "code",
   "execution_count": 36,
   "id": "d2843342-13f0-4c1e-a2bd-1e21ade1b3e5",
   "metadata": {},
   "outputs": [
    {
     "name": "stdout",
     "output_type": "stream",
     "text": [
      "(8400, 784) (8400,)\n"
     ]
    }
   ],
   "source": [
    "print(x_test.shape, y_test.shape)"
   ]
  },
  {
   "cell_type": "markdown",
   "id": "4c80eb25-aab6-473b-a618-28ae2a31ac2d",
   "metadata": {},
   "source": [
    "# Visualisation some samples\n",
    "- Image is in BGR format\n",
    "- have to change it to grayscale image : cmap function is there in matplot"
   ]
  },
  {
   "cell_type": "code",
   "execution_count": 39,
   "id": "9fd0de81-f0ba-4c02-b0dc-489023de8f56",
   "metadata": {},
   "outputs": [],
   "source": [
    "def drawImage(sample):\n",
    "\n",
    "    #reshape that image as image training dataset is flattened\n",
    "    img = sample.reshape((28,28))\n",
    "    plt.imshow(img, cmap = 'gray')\n",
    "    plt.show()"
   ]
  },
  {
   "cell_type": "code",
   "execution_count": 41,
   "id": "68479308-6816-4055-8796-b0a7e4000423",
   "metadata": {},
   "outputs": [
    {
     "data": {
      "image/png": "[encoded data removed]",
      "text/plain": [
       "<Figure size 640x480 with 1 Axes>"
      ]
     },
     "metadata": {},
     "output_type": "display_data"
    },
    {
     "name": "stdout",
     "output_type": "stream",
     "text": [
      "4\n"
     ]
    }
   ],
   "source": [
    "drawImage(x_train[3])\n",
    "print(y_train[3]) #have to get this for testing as well"
   ]
  },
  {
   "cell_type": "markdown",
   "id": "7917cd3f-1ffc-4a97-a35a-6eb0698770ac",
   "metadata": {},
   "source": [
    "# we have to apply KNN"
   ]
  },
  {
   "cell_type": "code",
   "execution_count": 81,
   "id": "1d0238d7-0df9-4d7c-8dee-b5de29754ec7",
   "metadata": {},
   "outputs": [],
   "source": [
    "# Distance formula between two numpy arrays - euclidean distance\n",
    "def distance(x1,x2):\n",
    "    return np.sqrt(sum((x1-x2)**2))\n",
    "\n",
    "def knn(x,y, querypoint, k=5):\n",
    "\n",
    "    # Pick K Nearest Neighbours\n",
    "    vals = []\n",
    "    #for every point in the x\n",
    "    for i in range(x.shape[0]):\n",
    "\n",
    "        #compute distance\n",
    "        d = distance(querypoint, x[i]) #distance between querypoint which has dim(1,784) from testing data and x[i] which will be from training set\n",
    "        vals.append((d, y[i])) #appended distance and labels\n",
    "\n",
    "    #print(vals)\n",
    "\n",
    "    # 2. sort the array and find k nearest points\n",
    "    vals = sorted(vals)\n",
    "    #print(vals)\n",
    "    vals = vals[:k] #first k points\n",
    "    #print(vals)\n",
    "\n",
    "    # majority vote\n",
    "\n",
    "    vals = np.array(vals)\n",
    "    new_values = np.unique(vals[:,1], return_counts=True)\n",
    "    #print(new_values)\n",
    "   # output for knn(x,y,[2,3]) --> (array([0., 1.]), array([3, 2], dtype=int64)) 0,1 is class and 3,2 is showing freq of class 0 and 1\n",
    "    #index of the maximum count\n",
    "    index = new_values[1].argmax() #argmax will give index of maximum count i.e., index of 3 in array([3, 2] is 0\n",
    "    \n",
    "    # map this index with my data\n",
    "    pred = new_values[0][index]\n",
    "\n",
    "    return pred\n"
   ]
  },
  {
   "cell_type": "code",
   "execution_count": 80,
   "id": "f024333c-347c-4457-9f8f-141e44a66884",
   "metadata": {},
   "outputs": [],
   "source": [
    "# make predictions over test images\n",
    "pred = knn(x_train,y_train,x_test)"
   ]
  },
  {
   "cell_type": "code",
   "execution_count": 60,
   "id": "f161c629-8b17-4bce-ac21-a91e2693f943",
   "metadata": {},
   "outputs": [
    {
     "data": {
      "text/plain": [
       "8.0"
      ]
     },
     "execution_count": 60,
     "metadata": {},
     "output_type": "execute_result"
    }
   ],
   "source": [
    "pred"
   ]
  },
  {
   "cell_type": "code",
   "execution_count": 62,
   "id": "c1d6f5b5-a22f-4faa-8f36-5c9971c7ae99",
   "metadata": {},
   "outputs": [
    {
     "data": {
      "image/png": "[encoded data removed]",
      "text/plain": [
       "<Figure size 640x480 with 1 Axes>"
      ]
     },
     "metadata": {},
     "output_type": "display_data"
    }
   ],
   "source": [
    "drawImage(x_test[25])"
   ]
  },
  {
   "cell_type": "code",
   "execution_count": 64,
   "id": "d41b6591-1aee-4c38-bd3f-cd0dcd774435",
   "metadata": {},
   "outputs": [
    {
     "name": "stdout",
     "output_type": "stream",
     "text": [
      "8\n"
     ]
    }
   ],
   "source": [
    "print(y_test[25])"
   ]
  },
  {
   "cell_type": "markdown",
   "id": "2aaa5b65-fb05-4ec8-8b78-f1eb70ddbab9",
   "metadata": {},
   "source": [
    "# Task \n",
    "## find accuracy of this project\n",
    "# To find the accuracy of your K-Nearest Neighbors (KNN) implementation, you can compare the predicted class labels of the test data points to their true class labels. The accuracy is the percentage of correctly predicted labels out of the total number of predictions."
   ]
  },
  {
   "cell_type": "code",
   "execution_count": null,
   "id": "9cfb4f8a-f126-44de-b43f-2840b13806d8",
   "metadata": {},
   "outputs": [],
   "source": [
    "pred=[]\n",
    "for i in range(x_test.shape[0]):\n",
    "    pred.append(knn(x_train,y_train,x_test[i]))\n",
    "\n",
    "pred = np.arrray(pred)"
   ]
  },
  {
   "cell_type": "code",
   "execution_count": 76,
   "id": "a32e2183-f90d-42be-9d43-7b9fa238e70f",
   "metadata": {},
   "outputs": [
    {
     "name": "stdout",
     "output_type": "stream",
     "text": [
      "Accuracy: 95.96%\n"
     ]
    }
   ],
   "source": [
    "from sklearn.metrics import accuracy_score\n",
    "accuracy = accuracy_score(pred, y_test)\n",
    "print(f'Accuracy: {accuracy * 100:.2f}%')"
   ]
  },
  {
   "cell_type": "code",
   "execution_count": null,
   "id": "f1fabfae-9fc8-4741-a9da-406af7a0265b",
   "metadata": {},
   "outputs": [],
   "source": []
  },
  {
   "cell_type": "code",
   "execution_count": null,
   "id": "cac7f911-f448-422a-ba25-fb62fca2a95f",
   "metadata": {},
   "outputs": [],
   "source": []
  }
 ],
 "metadata": {
  "kernelspec": {
   "display_name": "Python 3 (ipykernel)",
   "language": "python",
   "name": "python3"
  },
  "language_info": {
   "codemirror_mode": {
    "name": "ipython",
    "version": 3
   },
   "file_extension": ".py",
   "mimetype": "text/x-python",
   "name": "python",
   "nbconvert_exporter": "python",
   "pygments_lexer": "ipython3",
   "version": "3.12.4"
  }
 },
 "nbformat": 4,
 "nbformat_minor": 5
}
